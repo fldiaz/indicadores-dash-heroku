{
 "cells": [
  {
   "cell_type": "code",
   "execution_count": 39,
   "metadata": {},
   "outputs": [],
   "source": [
    "import requests\n",
    "import urllib.parse\n",
    "import pandas as pd\n",
    "import numpy as np\n"
   ]
  },
  {
   "cell_type": "code",
   "execution_count": 40,
   "metadata": {},
   "outputs": [],
   "source": [
    "#https://datos.gob.ar/series/api/series/?ids=143.3_NO_PR_2004_A_31"
   ]
  },
  {
   "cell_type": "code",
   "execution_count": 41,
   "metadata": {},
   "outputs": [],
   "source": [
    "def get_api_call(ids, **kwargs):\n",
    "    API_BASE_URL = \"https://apis.datos.gob.ar/series/api/\"\n",
    "    kwargs[\"ids\"] = \",\".join(ids)\n",
    "    return \"{}{}?{}\".format(API_BASE_URL, \"series\", urllib.parse.urlencode(kwargs))\n",
    "\n",
    "#Definicion de variacion interanual\n",
    "def compute_anual_variation(df):\n",
    "    \"\"\"Compute and return the anual variations values.\"\"\"\n",
    "    anual_returns= (df/df.shift(12))-1\n",
    "    return anual_returns\n",
    "\n",
    "\n",
    "#Definicion de variacion mensual\n",
    "def compute_mensual_variation(df):\n",
    "    mensual=(df/df.shift(1))-1\n",
    "    return mensual\n",
    "\n",
    "def vartrimestral(df):\n",
    "    dato=(df/df.shift(4))-1\n",
    "    return dato\n",
    "def datos(df):\n",
    "    datos=pd.read_csv(get_api_call([df], format=\"csv\", limit=5000), index_col='indice_tiempo')\n",
    "    return datos"
   ]
  },
  {
   "cell_type": "code",
   "execution_count": 42,
   "metadata": {},
   "outputs": [],
   "source": [
    "ipc=pd.read_csv(get_api_call([ '173.1_ECIONALLES_DIC-_0_12',\n",
    "    '173.1_INUCLEOLEO_DIC-_0_10',\n",
    "    '173.1_RLADOSDOS_DIC-_0_9', \n",
    "    '145.3_INGNACUAL_DICI_M_38'], format=\"csv\", limit=5000), index_col='indice_tiempo')\n",
    "ipcxcomponente= pd.read_csv(get_api_call(['146.3_IALIMENNAL_DICI_M_45',\n",
    "'146.3_IBEBIDANAL_DICI_M_39',\n",
    "'146.3_IBIENESNAL_DICI_M_36',\n",
    "'146.3_ICOMUNINAL_DICI_M_27',\n",
    "'146.3_IEDUCACNAL_DICI_M_22',\n",
    "'146.3_IPRENDANAL_DICI_M_35', '146.3_IRECREANAL_DICI_M_31', '146.3_ISALUDNAL_DICI_M_18', \n",
    "'146.3_ITRANSPNAL_DICI_M_23', '146.3_IVIVIENNAL_DICI_M_52'], format=\"csv\", limit=5000), index_col='indice_tiempo')\n",
    "ipcxzona=pd.read_csv(get_api_call(['145.3_INGNACUAL_DICI_M_38',\n",
    "'145.3_INGCUYUAL_DICI_M_34',\n",
    "'145.3_INGNEAUAL_DICI_M_33',\n",
    "'145.3_INGNOAUAL_DICI_M_33',\n",
    "'145.3_INGPAMUAL_DICI_M_38',\n",
    "'145.3_INGPATUAL_DICI_M_39'], format=\"csv\", limit=5000), index_col='indice_tiempo')\n"
   ]
  },
  {
   "cell_type": "code",
   "execution_count": 5,
   "metadata": {},
   "outputs": [],
   "source": [
    "ipc.to_csv(\"~/github/dash/datos/ipc.csv\")\n",
    "ipcxcomponente.to_csv(\"~/github/dash/datos/ipcxcomponente.csv\")\n",
    "ipcxzona.to_csv(\"~/github/dash/datos/ipcxzona.csv\")\n",
    "\n"
   ]
  },
  {
   "cell_type": "code",
   "execution_count": 44,
   "metadata": {},
   "outputs": [
    {
     "data": {
      "text/html": [
       "<div>\n",
       "<style scoped>\n",
       "    .dataframe tbody tr th:only-of-type {\n",
       "        vertical-align: middle;\n",
       "    }\n",
       "\n",
       "    .dataframe tbody tr th {\n",
       "        vertical-align: top;\n",
       "    }\n",
       "\n",
       "    .dataframe thead th {\n",
       "        text-align: right;\n",
       "    }\n",
       "</style>\n",
       "<table border=\"1\" class=\"dataframe\">\n",
       "  <thead>\n",
       "    <tr style=\"text-align: right;\">\n",
       "      <th></th>\n",
       "      <th>estacionales</th>\n",
       "      <th>ipc_nucleo</th>\n",
       "      <th>ipc_regulados</th>\n",
       "      <th>ipc_ng_nacional_tasa_variacion_mensual</th>\n",
       "    </tr>\n",
       "    <tr>\n",
       "      <th>indice_tiempo</th>\n",
       "      <th></th>\n",
       "      <th></th>\n",
       "      <th></th>\n",
       "      <th></th>\n",
       "    </tr>\n",
       "  </thead>\n",
       "  <tbody>\n",
       "    <tr>\n",
       "      <th>2021-12-01</th>\n",
       "      <td>0.037352</td>\n",
       "      <td>0.044232</td>\n",
       "      <td>0.017142</td>\n",
       "      <td>0.038400</td>\n",
       "    </tr>\n",
       "    <tr>\n",
       "      <th>2022-01-01</th>\n",
       "      <td>0.090499</td>\n",
       "      <td>0.033021</td>\n",
       "      <td>0.027566</td>\n",
       "      <td>0.038757</td>\n",
       "    </tr>\n",
       "    <tr>\n",
       "      <th>2022-02-01</th>\n",
       "      <td>0.084233</td>\n",
       "      <td>0.044508</td>\n",
       "      <td>0.031016</td>\n",
       "      <td>0.046944</td>\n",
       "    </tr>\n",
       "    <tr>\n",
       "      <th>2022-03-01</th>\n",
       "      <td>0.061924</td>\n",
       "      <td>0.063964</td>\n",
       "      <td>0.084296</td>\n",
       "      <td>0.067288</td>\n",
       "    </tr>\n",
       "    <tr>\n",
       "      <th>2022-04-01</th>\n",
       "      <td>0.054275</td>\n",
       "      <td>0.067090</td>\n",
       "      <td>0.039147</td>\n",
       "      <td>0.060414</td>\n",
       "    </tr>\n",
       "  </tbody>\n",
       "</table>\n",
       "</div>"
      ],
      "text/plain": [
       "               estacionales  ipc_nucleo  ipc_regulados  \\\n",
       "indice_tiempo                                            \n",
       "2021-12-01         0.037352    0.044232       0.017142   \n",
       "2022-01-01         0.090499    0.033021       0.027566   \n",
       "2022-02-01         0.084233    0.044508       0.031016   \n",
       "2022-03-01         0.061924    0.063964       0.084296   \n",
       "2022-04-01         0.054275    0.067090       0.039147   \n",
       "\n",
       "               ipc_ng_nacional_tasa_variacion_mensual  \n",
       "indice_tiempo                                          \n",
       "2021-12-01                                   0.038400  \n",
       "2022-01-01                                   0.038757  \n",
       "2022-02-01                                   0.046944  \n",
       "2022-03-01                                   0.067288  \n",
       "2022-04-01                                   0.060414  "
      ]
     },
     "execution_count": 44,
     "metadata": {},
     "output_type": "execute_result"
    }
   ],
   "source": [
    "ipc.tail()"
   ]
  },
  {
   "cell_type": "code",
   "execution_count": 45,
   "metadata": {},
   "outputs": [],
   "source": [
    "#Indicadores de desempleo 42.3_EPH_PUNTUATAL_0_M_30 trimestral\n",
    "desocupacion=pd.read_csv(get_api_call(['42.3_EPH_PUNTUATAL_0_M_30'], format=\"csv\",limit=5000), index_col='indice_tiempo')\n",
    "desocupacion.to_csv(\"~/github/dash/datos/desocupacion.csv\")\n"
   ]
  },
  {
   "cell_type": "code",
   "execution_count": 46,
   "metadata": {},
   "outputs": [
    {
     "data": {
      "text/html": [
       "<div>\n",
       "<style scoped>\n",
       "    .dataframe tbody tr th:only-of-type {\n",
       "        vertical-align: middle;\n",
       "    }\n",
       "\n",
       "    .dataframe tbody tr th {\n",
       "        vertical-align: top;\n",
       "    }\n",
       "\n",
       "    .dataframe thead th {\n",
       "        text-align: right;\n",
       "    }\n",
       "</style>\n",
       "<table border=\"1\" class=\"dataframe\">\n",
       "  <thead>\n",
       "    <tr style=\"text-align: right;\">\n",
       "      <th></th>\n",
       "      <th>eph_puntual_desocupacion_total</th>\n",
       "    </tr>\n",
       "    <tr>\n",
       "      <th>indice_tiempo</th>\n",
       "      <th></th>\n",
       "    </tr>\n",
       "  </thead>\n",
       "  <tbody>\n",
       "    <tr>\n",
       "      <th>2020-10-01</th>\n",
       "      <td>0.109579</td>\n",
       "    </tr>\n",
       "    <tr>\n",
       "      <th>2021-01-01</th>\n",
       "      <td>0.102000</td>\n",
       "    </tr>\n",
       "    <tr>\n",
       "      <th>2021-04-01</th>\n",
       "      <td>0.096009</td>\n",
       "    </tr>\n",
       "    <tr>\n",
       "      <th>2021-07-01</th>\n",
       "      <td>0.082000</td>\n",
       "    </tr>\n",
       "    <tr>\n",
       "      <th>2021-10-01</th>\n",
       "      <td>0.070000</td>\n",
       "    </tr>\n",
       "  </tbody>\n",
       "</table>\n",
       "</div>"
      ],
      "text/plain": [
       "               eph_puntual_desocupacion_total\n",
       "indice_tiempo                                \n",
       "2020-10-01                           0.109579\n",
       "2021-01-01                           0.102000\n",
       "2021-04-01                           0.096009\n",
       "2021-07-01                           0.082000\n",
       "2021-10-01                           0.070000"
      ]
     },
     "execution_count": 46,
     "metadata": {},
     "output_type": "execute_result"
    }
   ],
   "source": [
    "desocupacion.tail()"
   ]
  },
  {
   "cell_type": "code",
   "execution_count": 7,
   "metadata": {},
   "outputs": [],
   "source": [
    "asalariados=pd.read_csv(get_api_call(['151.1_AARIADOTAC_2012_M_25', '151.1_AARIADOTAC_2012_M_26', '151.1_AARIADOTAC_2012_M_40', '151.1_IPENDIETAC_2012_M_34', '151.1_IPENDIETAC_2012_M_36', '151.1_IPENDIETAC_2012_M_43'], format=\"csv\",limit=5000), index_col='indice_tiempo')\n",
    "asalariados.to_csv(\"~/github/dash/datos/asalariados.csv\")"
   ]
  },
  {
   "cell_type": "code",
   "execution_count": 47,
   "metadata": {},
   "outputs": [
    {
     "data": {
      "text/html": [
       "<div>\n",
       "<style scoped>\n",
       "    .dataframe tbody tr th:only-of-type {\n",
       "        vertical-align: middle;\n",
       "    }\n",
       "\n",
       "    .dataframe tbody tr th {\n",
       "        vertical-align: top;\n",
       "    }\n",
       "\n",
       "    .dataframe thead th {\n",
       "        text-align: right;\n",
       "    }\n",
       "</style>\n",
       "<table border=\"1\" class=\"dataframe\">\n",
       "  <thead>\n",
       "    <tr style=\"text-align: right;\">\n",
       "      <th></th>\n",
       "      <th>asalariados_pub_sin_estac</th>\n",
       "      <th>asalariados_priv_sin_estac</th>\n",
       "      <th>asalariados_casas_particulares_sin_estac</th>\n",
       "      <th>independientes_autonomos_sin_estac</th>\n",
       "      <th>independientes_monotributo_sin_estac</th>\n",
       "      <th>independientes_monotributo_social_sin_estac</th>\n",
       "    </tr>\n",
       "    <tr>\n",
       "      <th>indice_tiempo</th>\n",
       "      <th></th>\n",
       "      <th></th>\n",
       "      <th></th>\n",
       "      <th></th>\n",
       "      <th></th>\n",
       "      <th></th>\n",
       "    </tr>\n",
       "  </thead>\n",
       "  <tbody>\n",
       "    <tr>\n",
       "      <th>2021-10-01</th>\n",
       "      <td>3316.121</td>\n",
       "      <td>5954.565</td>\n",
       "      <td>475.054</td>\n",
       "      <td>381.545</td>\n",
       "      <td>1791.267</td>\n",
       "      <td>398.016</td>\n",
       "    </tr>\n",
       "    <tr>\n",
       "      <th>2021-11-01</th>\n",
       "      <td>3326.436</td>\n",
       "      <td>5975.540</td>\n",
       "      <td>475.157</td>\n",
       "      <td>381.497</td>\n",
       "      <td>1806.309</td>\n",
       "      <td>394.207</td>\n",
       "    </tr>\n",
       "    <tr>\n",
       "      <th>2021-12-01</th>\n",
       "      <td>3332.498</td>\n",
       "      <td>6003.626</td>\n",
       "      <td>477.208</td>\n",
       "      <td>383.925</td>\n",
       "      <td>1775.870</td>\n",
       "      <td>440.046</td>\n",
       "    </tr>\n",
       "    <tr>\n",
       "      <th>2022-01-01</th>\n",
       "      <td>3332.884</td>\n",
       "      <td>6030.903</td>\n",
       "      <td>474.913</td>\n",
       "      <td>384.313</td>\n",
       "      <td>1780.876</td>\n",
       "      <td>439.562</td>\n",
       "    </tr>\n",
       "    <tr>\n",
       "      <th>2022-02-01</th>\n",
       "      <td>3334.176</td>\n",
       "      <td>6041.118</td>\n",
       "      <td>475.137</td>\n",
       "      <td>385.792</td>\n",
       "      <td>1805.695</td>\n",
       "      <td>441.730</td>\n",
       "    </tr>\n",
       "  </tbody>\n",
       "</table>\n",
       "</div>"
      ],
      "text/plain": [
       "               asalariados_pub_sin_estac  asalariados_priv_sin_estac  \\\n",
       "indice_tiempo                                                          \n",
       "2021-10-01                      3316.121                    5954.565   \n",
       "2021-11-01                      3326.436                    5975.540   \n",
       "2021-12-01                      3332.498                    6003.626   \n",
       "2022-01-01                      3332.884                    6030.903   \n",
       "2022-02-01                      3334.176                    6041.118   \n",
       "\n",
       "               asalariados_casas_particulares_sin_estac  \\\n",
       "indice_tiempo                                             \n",
       "2021-10-01                                      475.054   \n",
       "2021-11-01                                      475.157   \n",
       "2021-12-01                                      477.208   \n",
       "2022-01-01                                      474.913   \n",
       "2022-02-01                                      475.137   \n",
       "\n",
       "               independientes_autonomos_sin_estac  \\\n",
       "indice_tiempo                                       \n",
       "2021-10-01                                381.545   \n",
       "2021-11-01                                381.497   \n",
       "2021-12-01                                383.925   \n",
       "2022-01-01                                384.313   \n",
       "2022-02-01                                385.792   \n",
       "\n",
       "               independientes_monotributo_sin_estac  \\\n",
       "indice_tiempo                                         \n",
       "2021-10-01                                 1791.267   \n",
       "2021-11-01                                 1806.309   \n",
       "2021-12-01                                 1775.870   \n",
       "2022-01-01                                 1780.876   \n",
       "2022-02-01                                 1805.695   \n",
       "\n",
       "               independientes_monotributo_social_sin_estac  \n",
       "indice_tiempo                                               \n",
       "2021-10-01                                         398.016  \n",
       "2021-11-01                                         394.207  \n",
       "2021-12-01                                         440.046  \n",
       "2022-01-01                                         439.562  \n",
       "2022-02-01                                         441.730  "
      ]
     },
     "execution_count": 47,
     "metadata": {},
     "output_type": "execute_result"
    }
   ],
   "source": [
    "asalariados.tail()"
   ]
  },
  {
   "cell_type": "code",
   "execution_count": 8,
   "metadata": {},
   "outputs": [],
   "source": [
    "salarios=pd.read_csv(get_api_call([\n",
    "    '149.1_SOR_PRIADO_OCTU_0_25',\n",
    "    '149.1_SOR_PRIADO_OCTU_0_28',\n",
    "    '149.1_SOR_PUBICO_OCTU_0_14','101.1_I2NG_2016_M_22'],format='csv', limit=5000), parse_dates=True, index_col='indice_tiempo')\n",
    "salarios.to_csv(\"~/github/dash/datos/salarios.csv\")"
   ]
  },
  {
   "cell_type": "code",
   "execution_count": 9,
   "metadata": {},
   "outputs": [],
   "source": [
    "cantdeasalariados= pd.read_csv(get_api_call(['154.2_BOS_AIRRES_S_0_0_12', '154.2_CABA_S_0_0_4'], format=\"csv\", limit=5000), index_col='indice_tiempo')\n",
    "cantdeasalariados.to_csv(\"~/github/dash/datos/cantdeasalariados.csv\")"
   ]
  },
  {
   "cell_type": "code",
   "execution_count": 10,
   "metadata": {},
   "outputs": [],
   "source": [
    "tc=pd.read_csv(get_api_call(['92.2_TIPO_CAMBIION_0_0_21_24'], format=\"csv\", limit=5000, start_date='2010'), index_col='indice_tiempo')\n",
    "tc.to_csv(\"~/github/dash/datos/tc.csv\")\n"
   ]
  },
  {
   "cell_type": "code",
   "execution_count": 11,
   "metadata": {},
   "outputs": [
    {
     "data": {
      "text/html": [
       "<div>\n",
       "<style scoped>\n",
       "    .dataframe tbody tr th:only-of-type {\n",
       "        vertical-align: middle;\n",
       "    }\n",
       "\n",
       "    .dataframe tbody tr th {\n",
       "        vertical-align: top;\n",
       "    }\n",
       "\n",
       "    .dataframe thead th {\n",
       "        text-align: right;\n",
       "    }\n",
       "</style>\n",
       "<table border=\"1\" class=\"dataframe\">\n",
       "  <thead>\n",
       "    <tr style=\"text-align: right;\">\n",
       "      <th></th>\n",
       "      <th>eph_puntual_desocupacion_total</th>\n",
       "    </tr>\n",
       "    <tr>\n",
       "      <th>indice_tiempo</th>\n",
       "      <th></th>\n",
       "    </tr>\n",
       "  </thead>\n",
       "  <tbody>\n",
       "    <tr>\n",
       "      <th>2020-10-01</th>\n",
       "      <td>0.109579</td>\n",
       "    </tr>\n",
       "    <tr>\n",
       "      <th>2021-01-01</th>\n",
       "      <td>0.102000</td>\n",
       "    </tr>\n",
       "    <tr>\n",
       "      <th>2021-04-01</th>\n",
       "      <td>0.096009</td>\n",
       "    </tr>\n",
       "    <tr>\n",
       "      <th>2021-07-01</th>\n",
       "      <td>0.082000</td>\n",
       "    </tr>\n",
       "    <tr>\n",
       "      <th>2021-10-01</th>\n",
       "      <td>0.070000</td>\n",
       "    </tr>\n",
       "  </tbody>\n",
       "</table>\n",
       "</div>"
      ],
      "text/plain": [
       "               eph_puntual_desocupacion_total\n",
       "indice_tiempo                                \n",
       "2020-10-01                           0.109579\n",
       "2021-01-01                           0.102000\n",
       "2021-04-01                           0.096009\n",
       "2021-07-01                           0.082000\n",
       "2021-10-01                           0.070000"
      ]
     },
     "execution_count": 11,
     "metadata": {},
     "output_type": "execute_result"
    }
   ],
   "source": [
    "desocupacion.tail()"
   ]
  },
  {
   "cell_type": "code",
   "execution_count": 12,
   "metadata": {},
   "outputs": [],
   "source": [
    "tcrm=pd.read_csv(get_api_call(['116.4_TCRZE_2015_D_36_4'], format=\"csv\", limit=5000, start_date='2009'), index_col='indice_tiempo')\n",
    "tcrm.to_csv(\"~/github/dash/datos/tcrm.csv\")\n",
    "tcrusa=pd.read_csv(get_api_call(['116.4_TCRZE_2015_D_31_73'], format=\"csv\", limit=5000, start_date='2009'), index_col='indice_tiempo')\n",
    "tcrusa.to_csv(\"~/github/dash/datos/tcrusa.csv\")\n",
    "tcrbra=pd.read_csv(get_api_call(['116.4_TCRZE_2015_D_23_88'], format='csv', limit=5000, start_date='2009'), index_col= 'indice_tiempo')\n",
    "tcrbra.to_csv(\"~/github/dash/datos/tcrbra.csv\")\n",
    "tcreuro=pd.read_csv(get_api_call(['116.4_TCRZE_2015_D_26_49'], format='csv', limit=5000, start_date='2009'), index_col= 'indice_tiempo')\n",
    "tcreuro.to_csv(\"~/github/dash/datos/tcreuro.csv\")\n",
    "#mensuales\n",
    "#116.3_TCREU_0_M_31\n",
    "#116.3_TCRMA_0_M_36\n",
    "#116.3_TCRB_0_M_23\n",
    "#116.3_TCRZE_0_M_26\n"
   ]
  },
  {
   "cell_type": "code",
   "execution_count": 13,
   "metadata": {},
   "outputs": [],
   "source": [
    "tasasdeint=pd.read_csv(get_api_call(['89.1_TIAC_0_0_26', '89.1_TIB_0_0_20', '89.1_TIC_0_0_18', '89.1_TIPF35D_0_0_35'], format=\"csv\", start_date=2015, limit=5000), index_col='indice_tiempo')\n",
    "tasasdeint.to_csv(\"~/github/dash/datos/tasasdeint.csv\")"
   ]
  },
  {
   "cell_type": "code",
   "execution_count": 14,
   "metadata": {},
   "outputs": [],
   "source": [
    "reservas=pd.read_csv(get_api_call(['174.1_RRVAS_IDOS_0_0_36'], format=\"csv\", limit=5000, start_date='2009'), index_col='indice_tiempo', decimal=',')\n",
    "reservas.to_csv(\"~/github/dash/datos/reservas.csv\")\n",
    "#mensuales 174.1_RRVAS_IIOS_0_0_60"
   ]
  },
  {
   "cell_type": "code",
   "execution_count": 15,
   "metadata": {},
   "outputs": [],
   "source": [
    "depoyprest= pd.read_csv(get_api_call(['90.1_DTPPRI_0_0_31',\n",
    "'174.1_PTAMOS_O_0_0_29'], format=\"csv\", start_date=2005, limit=5000), index_col='indice_tiempo')\n",
    "\n",
    "depoyprest.to_csv(\"~/github/dash/datos/depoyprest.csv\")"
   ]
  },
  {
   "cell_type": "code",
   "execution_count": 16,
   "metadata": {},
   "outputs": [],
   "source": [
    "emae=pd.read_csv(get_api_call(['143.3_NO_PR_2004_A_31'], format=\"csv\", start_date='2006',limit=5000), index_col='indice_tiempo')\n",
    "emae.to_csv(\"~/github/dash/datos/emae.csv\")"
   ]
  },
  {
   "cell_type": "code",
   "execution_count": 17,
   "metadata": {},
   "outputs": [],
   "source": [
    "pib= pd.read_csv(get_api_call(['9.2_PP2_2004_T_16'], format=\"csv\", limit=5000), index_col='indice_tiempo')\n",
    "pib.index=pd.to_datetime(pib.index)\n",
    "pib.index=pib.index+pd.offsets.BQuarterEnd(1)\n",
    "pib.to_csv(\"~/github/dash/datos/pib.csv\")\n",
    "pibxcapita=pd.read_csv(get_api_call(['9.1_IPC_2004_A_25'], format=\"csv\", limit=5000), index_col='indice_tiempo')\n",
    "pibxcapita.to_csv(\"~/github/dash/datos/pibxcapita.csv\")\n",
    "componetespib= pd.read_csv(get_api_call([\n",
    "'4.2_MGCP_2004_T_25',\n",
    "'4.2_DGCP_2004_T_30',\n",
    "'4.2_DGE_2004_T_26',\n",
    "'4.2_DGIT_2004_T_25',\n",
    "'4.2_OGI_2004_T_25'], format=\"csv\", limit=5000), index_col='indice_tiempo')\n",
    "componetespib.index=pd.to_datetime(componetespib.index)\n",
    "componetespib.index=componetespib.index+pd.offsets.BQuarterEnd(1)\n",
    "componetespib.to_csv(\"~/github/dash/datos/componetespib.csv\")"
   ]
  },
  {
   "cell_type": "code",
   "execution_count": 18,
   "metadata": {},
   "outputs": [],
   "source": [
    "pib_corriente=pd.read_csv(get_api_call(['9.2_PPC_2004_T_22'], format=\"csv\", limit=5000), index_col='indice_tiempo')\n",
    "#pib_corriente.to_csv(\"~/github/dash/datos/pib_corriente.csv\")\n",
    "depo_presta_pib=depoyprest.copy()\n",
    "depo_presta_pib=depo_presta_pib.join(pib_corriente)\n",
    "depo_presta_pib.fillna(method='pad', inplace=True)\n"
   ]
  },
  {
   "cell_type": "code",
   "execution_count": 19,
   "metadata": {},
   "outputs": [],
   "source": [
    "depo_presta_pib['Préstamos/PIB']=(depo_presta_pib['prestamos_al_sector_privado_pesos'])/depo_presta_pib['pib_precios_corrientes']*100\n",
    "depo_presta_pib['Depósitos/PIB']=(depo_presta_pib['depositos_totales_pesos_privado'])/depo_presta_pib['pib_precios_corrientes']*100\n",
    "depo_presta_pib.drop(columns={'depositos_totales_pesos_privado','prestamos_al_sector_privado_pesos', 'pib_precios_corrientes'}, inplace=True)\n",
    "depo_presta_pib.to_csv(\"~/github/dash/datos/depo_presta_pib.csv\")"
   ]
  },
  {
   "cell_type": "code",
   "execution_count": 20,
   "metadata": {},
   "outputs": [],
   "source": [
    "gfigurativos=datos('379.9_GTOS_PRIMA017__37_33')\n",
    "gfigurativos.to_csv(\"~/github/dash/datos/gfigurativos.csv\")\n",
    "ingresos=datos('379.9_ING_ANTES_017__26_83')\n",
    "ingresos.to_csv(\"~/github/dash/datos/ingresos.csv\")\n"
   ]
  },
  {
   "cell_type": "code",
   "execution_count": 21,
   "metadata": {},
   "outputs": [],
   "source": [
    "reca=datos('172.3_TL_RECAION_M_0_0_17')\n",
    "reca.to_csv(\"~/github/dash/datos/reca.csv\")\n",
    "ipcanual=pd.read_csv(get_api_call(['103.1_I2N_2016_M_19',], format=\"csv\", limit=5000), index_col='indice_tiempo')\n",
    "ipcanual.to_csv(\"~/github/dash/datos/ipcanual.csv\")\n"
   ]
  },
  {
   "cell_type": "code",
   "execution_count": 22,
   "metadata": {},
   "outputs": [],
   "source": [
    "sup=datos('379.9_SUPERAVIT_017__23_94') #Superavit primarioMetodología 2017\n",
    "sup.to_csv(\"~/github/dash/datos/sup.csv\")\n"
   ]
  },
  {
   "cell_type": "code",
   "execution_count": 23,
   "metadata": {},
   "outputs": [],
   "source": [
    "financiero=datos('379.9_RESULTADO_017__18_38')#el déficit financiero -que incluye el pago de los intereses de la deuda pública- fue de $ 49.838 millones teniendo en relación a marzo de 2018 un aumento equivalente a 31,5%, y una reducción en términos reales de 15% i.a.\n",
    "financiero.to_csv(\"~/github/dash/datos/financiero.csv\")\n"
   ]
  },
  {
   "cell_type": "code",
   "execution_count": 24,
   "metadata": {},
   "outputs": [
    {
     "data": {
      "text/html": [
       "<div>\n",
       "<style scoped>\n",
       "    .dataframe tbody tr th:only-of-type {\n",
       "        vertical-align: middle;\n",
       "    }\n",
       "\n",
       "    .dataframe tbody tr th {\n",
       "        vertical-align: top;\n",
       "    }\n",
       "\n",
       "    .dataframe thead th {\n",
       "        text-align: right;\n",
       "    }\n",
       "</style>\n",
       "<table border=\"1\" class=\"dataframe\">\n",
       "  <thead>\n",
       "    <tr style=\"text-align: right;\">\n",
       "      <th></th>\n",
       "      <th>total_recaudacion</th>\n",
       "    </tr>\n",
       "    <tr>\n",
       "      <th>indice_tiempo</th>\n",
       "      <th></th>\n",
       "    </tr>\n",
       "  </thead>\n",
       "  <tbody>\n",
       "    <tr>\n",
       "      <th>2021-12-01</th>\n",
       "      <td>1.179890e+06</td>\n",
       "    </tr>\n",
       "    <tr>\n",
       "      <th>2022-01-01</th>\n",
       "      <td>1.171943e+06</td>\n",
       "    </tr>\n",
       "    <tr>\n",
       "      <th>2022-02-01</th>\n",
       "      <td>1.166514e+06</td>\n",
       "    </tr>\n",
       "    <tr>\n",
       "      <th>2022-03-01</th>\n",
       "      <td>1.241089e+06</td>\n",
       "    </tr>\n",
       "    <tr>\n",
       "      <th>2022-04-01</th>\n",
       "      <td>1.341595e+06</td>\n",
       "    </tr>\n",
       "  </tbody>\n",
       "</table>\n",
       "</div>"
      ],
      "text/plain": [
       "               total_recaudacion\n",
       "indice_tiempo                   \n",
       "2021-12-01          1.179890e+06\n",
       "2022-01-01          1.171943e+06\n",
       "2022-02-01          1.166514e+06\n",
       "2022-03-01          1.241089e+06\n",
       "2022-04-01          1.341595e+06"
      ]
     },
     "execution_count": 24,
     "metadata": {},
     "output_type": "execute_result"
    }
   ],
   "source": [
    "reca.tail()"
   ]
  },
  {
   "cell_type": "code",
   "execution_count": null,
   "metadata": {},
   "outputs": [],
   "source": []
  }
 ],
 "metadata": {
  "kernelspec": {
   "display_name": "Python 3 (ipykernel)",
   "language": "python",
   "name": "python3"
  },
  "language_info": {
   "codemirror_mode": {
    "name": "ipython",
    "version": 3
   },
   "file_extension": ".py",
   "mimetype": "text/x-python",
   "name": "python",
   "nbconvert_exporter": "python",
   "pygments_lexer": "ipython3",
   "version": "3.9.7"
  }
 },
 "nbformat": 4,
 "nbformat_minor": 4
}
